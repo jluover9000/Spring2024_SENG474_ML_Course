{
 "cells": [
  {
   "cell_type": "code",
   "execution_count": 6,
   "metadata": {},
   "outputs": [],
   "source": [
    "user_user_dict = {\n",
    "    'Lisa Rose': {'Lady in the Water': 2.5,\n",
    "                    'Snakes on a Plane': 3.5,\n",
    "                    'Just my Luck': 3.0,\n",
    "                    'Superman Returns': 3.5,\n",
    "                    'You, Me and Dupree': 2.5,\n",
    "                    'The Night Listener': 3.0}, \n",
    "    'Gene Seymour':{'Lady in the Water': 3.0,\n",
    "                    'Snakes on a Plane': 3.5,\n",
    "                    'Just my Luck': 1.5,\n",
    "                    'Superman Returns': 5.0,\n",
    "                    'The Night Listener': 3.0,\n",
    "                    'You, Me and Dupree': 3.5}\n",
    ",   'Michael Phillips':{'Lady in the Water': 2.5,\n",
    "                        'Snakes on a Plane': 3.0,\n",
    "                        'Superman Returns': 3.5,\n",
    "                        'The Night Listener': 4.0}, \n",
    "    'Claudia Puig': {'Snakes on a Plane': 3.5,\n",
    "                    'Just my Luck': 3.0,\n",
    "                    'The Night Listener': 4.5,\n",
    "                    'Superman Returns': 4.0,\n",
    "                    'You, Me and Dupree': 2.5}, \n",
    "    'Mick LaSalle':{'Lady in the Water': 3.0,\n",
    "                    'Snakes on a Plane': 4.0,\n",
    "                    'Just my Luck': 2.0,\n",
    "                    'Superman Returns': 3.0,\n",
    "                    'The Night Listener': 3.0,\n",
    "                    'You, Me and Dupree': 2.0}, \n",
    "    'Jack Matthews':{'Lady in the Water': 3.0,\n",
    "                        'Snakes on a Plane': 4.0,\n",
    "                        'Superman Returns': 5.0,\n",
    "                        'The Night Listener': 3.0,\n",
    "                        'You, Me and Dupree': 3.5}, \n",
    "    'Toby': {'Snakes on a Plane': 4.5,\n",
    "            'Superman Returns': 4.0,\n",
    "            'You, Me and Dupree': 1.0}\n",
    "}"
   ]
  },
  {
   "cell_type": "code",
   "execution_count": 15,
   "metadata": {},
   "outputs": [
    {
     "name": "stdout",
     "output_type": "stream",
     "text": [
      " Rating prediction =  2.694636703980363\n"
     ]
    }
   ],
   "source": [
    "#Suppose we build a recommender system following the user-user\n",
    "# similarities approach with Pearson correlation as a similarity measure. What will\n",
    "# be the rating prediction for user Michael Phillips, for movie “You, Me and\n",
    "# Dupree”? Give the details of your computation.\n",
    "# In computing the Pearson user-user similarities, restrict the user vectors to only\n",
    "# those components (movies) the two users have in common.\n",
    "\n",
    "import math\n",
    "def pearson_correlation(user1, user2):\n",
    "    common_movies = {}\n",
    "    for movie in user1:\n",
    "        if movie in user2:\n",
    "            common_movies[movie] = 1\n",
    "    if len(common_movies) == 0:\n",
    "        return 0\n",
    "    n = len(common_movies)\n",
    "    sum1 = sum([user1[movie] for movie in common_movies])\n",
    "    sum2 = sum([user2[movie] for movie in common_movies])\n",
    "    sum1Sq = sum([pow(user1[movie], 2) for movie in common_movies])\n",
    "    sum2Sq = sum([pow(user2[movie], 2) for movie in common_movies])\n",
    "    pSum = sum([user1[movie] * user2[movie] for movie in common_movies])\n",
    "    num = pSum - (sum1 * sum2 / n)\n",
    "    den = math.sqrt((sum1Sq - pow(sum1, 2) / n) * (sum2Sq - pow(sum2, 2) / n))\n",
    "    if den == 0:\n",
    "        return 0\n",
    "    return num / den\n",
    "\n",
    "def predict_rating(user, movie):\n",
    "    total = 0\n",
    "    simSums = 0\n",
    "    for other in user_user_dict:\n",
    "        if other == user:\n",
    "            continue\n",
    "        sim = pearson_correlation(user_user_dict[user], user_user_dict[other])\n",
    "        if sim <= 0:\n",
    "            continue\n",
    "        if movie in user_user_dict[other]:\n",
    "            total += user_user_dict[other][movie] * sim\n",
    "            simSums += sim\n",
    "    if simSums == 0:\n",
    "        return 0\n",
    "    return total / simSums\n",
    "\n",
    "print(\" Rating prediction = \", predict_rating('Michael Phillips', 'You, Me and Dupree'))\n"
   ]
  },
  {
   "cell_type": "code",
   "execution_count": 13,
   "metadata": {},
   "outputs": [
    {
     "name": "stdout",
     "output_type": "stream",
     "text": [
      "Mu =  3.2285714285714286\n",
      "br after first pass =  -0.10596754485699997\n"
     ]
    }
   ],
   "source": [
    "#If we use the user-bias, item-bias approach to recommendation (Netflix\n",
    "# competition), what will b_r (short for b_(lisa rose)) be after the first pass over the data?\n",
    "# Set lambda_1=lambda_2=gamma=0.1, and start with zero bias values.\n",
    "\n",
    "# mu = (Sum of all ratings) / (Total number of ratings)\n",
    "def get_mu():\n",
    "    total = 0\n",
    "    count = 0\n",
    "    for user in user_user_dict:\n",
    "        for movie in user_user_dict[user]:\n",
    "            total += user_user_dict[user][movie]\n",
    "            count += 1\n",
    "    return total / count\n",
    "print(\"Mu = \", get_mu())\n",
    "\n",
    "# br = br + gamma*((\"lisa rose's movie rating\"-(mu+br))- lambda*br)\n",
    "# in the first pass, br = 0\n",
    "def get_br(user):\n",
    "    gamma = 0.1\n",
    "    lambda_1 = 0.1\n",
    "    mu = get_mu()\n",
    "    br = 0\n",
    "    for movie in user_user_dict[user]:\n",
    "        br = br + gamma * ((user_user_dict[user][movie] - (mu + br)) - lambda_1 * br)\n",
    "    return br\n",
    "\n",
    "print(\"br after first pass = \", get_br('Lisa Rose'))\n",
    "\n"
   ]
  }
 ],
 "metadata": {
  "kernelspec": {
   "display_name": "Python 3",
   "language": "python",
   "name": "python3"
  },
  "language_info": {
   "codemirror_mode": {
    "name": "ipython",
    "version": 3
   },
   "file_extension": ".py",
   "mimetype": "text/x-python",
   "name": "python",
   "nbconvert_exporter": "python",
   "pygments_lexer": "ipython3",
   "version": "3.11.7"
  }
 },
 "nbformat": 4,
 "nbformat_minor": 2
}
