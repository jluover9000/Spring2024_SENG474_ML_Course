{
 "cells": [
  {
   "cell_type": "code",
   "execution_count": 278,
   "metadata": {},
   "outputs": [],
   "source": [
    "import pandas as pd\n",
    "import numpy as np"
   ]
  },
  {
   "cell_type": "code",
   "execution_count": 279,
   "metadata": {},
   "outputs": [],
   "source": [
    "data = pd.read_csv('/Users/jacksonlu/Downloads/titanic.csv')\n",
    "pclass = data['pclass'].count()\n",
    "sex = data['sex'].count()\n",
    "age = data['age'].count()"
   ]
  },
  {
   "cell_type": "code",
   "execution_count": 280,
   "metadata": {},
   "outputs": [],
   "source": [
    "male_survived_count = data[(data['sex'] == 'male') & (data['survived'] == 'yes')].shape[0]\n",
    "female_survived_count = data[(data['sex'] == 'female') & (data['survived'] == 'yes')].shape[0]\n",
    "male_not_survived_count = data[(data['sex'] == 'male') & (data['survived'] == 'no')].shape[0]\n",
    "female_not_survived_count = data[(data['sex'] == 'female') & (data['survived'] == 'no')].shape[0]\n",
    "\n",
    "adult_survived_count = data[(data['age'] == 'adult') & (data['survived'] == 'yes')].shape[0]\n",
    "child_survived_count = data[(data['age'] == 'child') & (data['survived'] == 'yes')].shape[0]\n",
    "adult_not_survived_count = data[(data['age'] == 'adult') & (data['survived'] == 'no')].shape[0]\n",
    "child_not_survived_count = data[(data['age'] == 'child') & (data['survived'] == 'no')].shape[0]\n",
    "\n",
    "first_class_survived_count = data[(data['pclass'] == '1st') & (data['survived'] == 'yes')].shape[0]\n",
    "second_class_survived_count = data[(data['pclass'] == '2nd') & (data['survived'] == 'yes')].shape[0]\n",
    "third_class_survived_count = data[(data['pclass'] == '3rd') & (data['survived'] == 'yes')].shape[0]\n",
    "crew_survived_count = data[(data['pclass'] == 'crew') & (data['survived'] == 'yes')].shape[0]\n",
    "first_class_not_survived_count = data[(data['pclass'] == '1st') & (data['survived'] == 'no')].shape[0]\n",
    "second_class_not_survived_count = data[(data['pclass'] == '2nd') & (data['survived'] == 'no')].shape[0]\n",
    "third_class_not_survived_count = data[(data['pclass'] == '3rd') & (data['survived'] == 'no')].shape[0]\n",
    "crew_not_survived_count = data[(data['pclass'] == 'crew') & (data['survived'] == 'no')].shape[0]\n"
   ]
  },
  {
   "cell_type": "code",
   "execution_count": 281,
   "metadata": {},
   "outputs": [],
   "source": [
    "def entropy(survived, not_survived):\n",
    "    total = survived + not_survived\n",
    "    return -((survived / total) * np.log2(survived / total) + (not_survived / total) * np.log2(not_survived / total))"
   ]
  },
  {
   "cell_type": "code",
   "execution_count": 282,
   "metadata": {},
   "outputs": [],
   "source": [
    "def mean(entropy, subtotal, total):\n",
    "    return (subtotal / total) * entropy"
   ]
  },
  {
   "cell_type": "code",
   "execution_count": 283,
   "metadata": {},
   "outputs": [
    {
     "name": "stdout",
     "output_type": "stream",
     "text": [
      "sex entropy:  0.7652602113304224\n",
      "age entropy:  0.9012406875470709\n",
      "pclass entropy:  0.8483634692722222\n"
     ]
    }
   ],
   "source": [
    "male_entropy = entropy(male_survived_count, male_not_survived_count)\n",
    "female_entropy = entropy(female_survived_count, female_not_survived_count)\n",
    "sex_entropy = mean(male_entropy, male_survived_count+male_not_survived_count, sex) + mean(female_entropy, female_survived_count+female_not_survived_count, sex)\n",
    "\n",
    "adult_entropy = entropy(adult_survived_count, adult_not_survived_count)\n",
    "child_entropy = entropy(child_survived_count, child_not_survived_count)\n",
    "age_entropy = mean(adult_entropy, adult_survived_count+adult_not_survived_count, age) + mean(child_entropy, child_survived_count+child_not_survived_count, age)\n",
    "\n",
    "first_class_entropy = entropy(first_class_survived_count, first_class_not_survived_count)\n",
    "second_class_entropy = entropy(second_class_survived_count, second_class_not_survived_count)\n",
    "third_class_entropy = entropy(third_class_survived_count, third_class_not_survived_count)\n",
    "crew_entropy = entropy(crew_survived_count, crew_not_survived_count)\n",
    "pclass_entropy = mean(first_class_entropy, first_class_survived_count+first_class_not_survived_count, pclass) + mean(second_class_entropy, second_class_survived_count+second_class_not_survived_count, pclass) + mean(third_class_entropy, third_class_survived_count+third_class_not_survived_count, pclass) + mean(crew_entropy, crew_survived_count+crew_not_survived_count, pclass)\n",
    "\n",
    "print(\"sex entropy: \", sex_entropy)\n",
    "print(\"age entropy: \", age_entropy)\n",
    "print(\"pclass entropy: \", pclass_entropy)"
   ]
  },
  {
   "cell_type": "markdown",
   "metadata": {},
   "source": [
    "Root = sex"
   ]
  },
  {
   "cell_type": "code",
   "execution_count": 284,
   "metadata": {},
   "outputs": [
    {
     "name": "stdout",
     "output_type": "stream",
     "text": [
      "age_male_entropy:  0.7372563536552104\n",
      "pclass_male_entropy:  0.7334350137077876\n"
     ]
    }
   ],
   "source": [
    "adult_male_survived_count = data[(data['age'] == 'adult') & (data['sex'] == 'male') & (data['survived'] == 'yes')].shape[0]\n",
    "adult_male_not_survived_count = data[(data['age'] == 'adult') & (data['sex'] == 'male') & (data['survived'] == 'no')].shape[0]\n",
    "child_male_survived_count = data[(data['age'] == 'child') & (data['sex'] == 'male') & (data['survived'] == 'yes')].shape[0]\n",
    "child_male_not_survived_count = data[(data['age'] == 'child') & (data['sex'] == 'male') & (data['survived'] == 'no')].shape[0]\n",
    "total_age_male = adult_male_survived_count+adult_male_not_survived_count+child_male_survived_count+child_male_not_survived_count\n",
    "\n",
    "first_class_male_survived_count = data[(data['pclass'] == '1st') & (data['sex'] == 'male') & (data['survived'] == 'yes')].shape[0]\n",
    "second_class_male_survived_count = data[(data['pclass'] == '2nd') & (data['sex'] == 'male') & (data['survived'] == 'yes')].shape[0]\n",
    "third_class_male_survived_count = data[(data['pclass'] == '3rd') & (data['sex'] == 'male') & (data['survived'] == 'yes')].shape[0]\n",
    "crew_class_male_survived_count = data[(data['pclass'] == 'crew') & (data['sex'] == 'male') & (data['survived'] == 'yes')].shape[0]\n",
    "first_class_male_not_survived_count = data[(data['pclass'] == '1st') & (data['sex'] == 'male') & (data['survived'] == 'no')].shape[0]\n",
    "second_class_male_not_survived_count = data[(data['pclass'] == '2nd') & (data['sex'] == 'male') & (data['survived'] == 'no')].shape[0]\n",
    "third_class_male_not_survived_count = data[(data['pclass'] == '3rd') & (data['sex'] == 'male') & (data['survived'] == 'no')].shape[0]\n",
    "crew_class_male_not_survived_count = data[(data['pclass'] == 'crew') & (data['sex'] == 'male') & (data['survived'] == 'no')].shape[0]\n",
    "total_class_male = first_class_male_survived_count+second_class_male_survived_count+third_class_male_survived_count+crew_class_male_survived_count+first_class_male_not_survived_count+second_class_male_not_survived_count+third_class_male_not_survived_count+crew_class_male_not_survived_count\n",
    "\n",
    "adult_male_entropy = entropy(adult_male_survived_count, adult_male_not_survived_count)\n",
    "child_male_entropy = entropy(child_male_survived_count, child_male_not_survived_count)\n",
    "age_male_entropy = mean(adult_male_entropy, adult_male_survived_count+adult_male_not_survived_count, total_age_male) + mean(child_male_entropy, child_male_survived_count+child_male_not_survived_count, total_age_male)\n",
    "\n",
    "first_class_male_entropy = entropy(first_class_male_survived_count, first_class_male_not_survived_count)\n",
    "second_class_male_entropy = entropy(second_class_male_survived_count, second_class_male_not_survived_count)\n",
    "third_class_male_entropy = entropy(third_class_male_survived_count, third_class_male_not_survived_count)\n",
    "crew_class_male_entropy = entropy(crew_class_male_survived_count, crew_class_male_not_survived_count)\n",
    "pclass_male_entropy = mean(first_class_male_entropy, first_class_male_survived_count+first_class_male_not_survived_count, total_class_male) + mean(second_class_male_entropy, second_class_male_survived_count+second_class_male_not_survived_count, total_class_male)+mean(third_class_male_entropy, third_class_male_survived_count+third_class_male_not_survived_count, total_class_male)+mean(crew_class_male_entropy, crew_class_male_survived_count+crew_class_male_not_survived_count, total_class_male)\n",
    "\n",
    "print(\"age_male_entropy: \", age_male_entropy)\n",
    "print(\"pclass_male_entropy: \", pclass_male_entropy)"
   ]
  },
  {
   "cell_type": "code",
   "execution_count": 285,
   "metadata": {},
   "outputs": [
    {
     "name": "stdout",
     "output_type": "stream",
     "text": [
      "age_female_entropy:  0.8343071565467435\n",
      "pclass_female_entropy:  0.6196328041731173\n"
     ]
    }
   ],
   "source": [
    "adult_female_survived_count = data[(data['age'] == 'adult') & (data['sex'] == 'female') & (data['survived'] == 'yes')].shape[0]\n",
    "adult_female_not_survived_count = data[(data['age'] == 'adult') & (data['sex'] == 'female') & (data['survived'] == 'no')].shape[0]\n",
    "child_female_survived_count = data[(data['age'] == 'child') & (data['sex'] == 'female') & (data['survived'] == 'yes')].shape[0]\n",
    "child_female_not_survived_count = data[(data['age'] == 'child') & (data['sex'] == 'female') & (data['survived'] == 'no')].shape[0]\n",
    "total_age_female = adult_female_survived_count+adult_female_not_survived_count+child_female_survived_count+child_female_not_survived_count\n",
    "\n",
    "first_class_female_survived_count = data[(data['pclass'] == '1st') & (data['sex'] == 'female') & (data['survived'] == 'yes')].shape[0]\n",
    "second_class_female_survived_count = data[(data['pclass'] == '2nd') & (data['sex'] == 'female') & (data['survived'] == 'yes')].shape[0]\n",
    "third_class_female_survived_count = data[(data['pclass'] == '3rd') & (data['sex'] == 'female') & (data['survived'] == 'yes')].shape[0]\n",
    "crew_class_female_survived_count = data[(data['pclass'] == 'crew') & (data['sex'] == 'female') & (data['survived'] == 'yes')].shape[0]\n",
    "first_class_female_not_survived_count = data[(data['pclass'] == '1st') & (data['sex'] == 'female') & (data['survived'] == 'no')].shape[0]\n",
    "second_class_female_not_survived_count = data[(data['pclass'] == '2nd') & (data['sex'] == 'female') & (data['survived'] == 'no')].shape[0]\n",
    "third_class_female_not_survived_count = data[(data['pclass'] == '3rd') & (data['sex'] == 'female') & (data['survived'] == 'no')].shape[0]\n",
    "crew_class_female_not_survived_count = data[(data['pclass'] == 'crew') & (data['sex'] == 'female') & (data['survived'] == 'no')].shape[0]\n",
    "total_class_female = first_class_female_survived_count+second_class_female_survived_count+third_class_female_survived_count+crew_class_female_survived_count+first_class_female_not_survived_count+second_class_female_not_survived_count+third_class_female_not_survived_count+crew_class_female_not_survived_count\n",
    "\n",
    "adult_female_entropy = entropy(adult_female_survived_count, adult_female_not_survived_count)\n",
    "child_female_entropy = entropy(child_female_survived_count, child_female_not_survived_count)\n",
    "age_female_entropy = mean(adult_female_entropy, adult_female_survived_count+adult_female_not_survived_count, total_age_female) + mean(child_female_entropy, child_female_survived_count+child_female_not_survived_count, total_age_female)\n",
    "\n",
    "first_class_female_entropy = entropy(first_class_female_survived_count, first_class_female_not_survived_count)\n",
    "second_class_female_entropy = entropy(second_class_female_survived_count, second_class_female_not_survived_count)\n",
    "third_class_female_entropy = entropy(third_class_female_survived_count, third_class_female_not_survived_count)\n",
    "crew_class_female_entropy = entropy(crew_class_female_survived_count, crew_class_female_not_survived_count)\n",
    "pclass_female_entropy = mean(first_class_female_entropy, first_class_female_survived_count+first_class_female_not_survived_count, total_class_female) + mean(second_class_female_entropy, second_class_female_survived_count+second_class_female_not_survived_count, total_class_female)+mean(third_class_female_entropy, third_class_female_survived_count+third_class_female_not_survived_count, total_class_female)+mean(crew_class_female_entropy, crew_class_female_survived_count+crew_class_female_not_survived_count, total_class_female)\n",
    "\n",
    "print(\"age_female_entropy: \", age_female_entropy)\n",
    "print(\"pclass_female_entropy: \", pclass_female_entropy)"
   ]
  },
  {
   "cell_type": "markdown",
   "metadata": {},
   "source": [
    "![graph](assig2forvscode-3.jpg \"graph\")"
   ]
  },
  {
   "cell_type": "markdown",
   "metadata": {},
   "source": []
  }
 ],
 "metadata": {
  "kernelspec": {
   "display_name": "Python 3",
   "language": "python",
   "name": "python3"
  },
  "language_info": {
   "codemirror_mode": {
    "name": "ipython",
    "version": 3
   },
   "file_extension": ".py",
   "mimetype": "text/x-python",
   "name": "python",
   "nbconvert_exporter": "python",
   "pygments_lexer": "ipython3",
   "version": "3.12.1"
  }
 },
 "nbformat": 4,
 "nbformat_minor": 2
}
